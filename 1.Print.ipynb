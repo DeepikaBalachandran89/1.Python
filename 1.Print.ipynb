{
 "cells": [
  {
   "cell_type": "code",
   "execution_count": 1,
   "id": "3c9471ab",
   "metadata": {},
   "outputs": [
    {
     "name": "stdout",
     "output_type": "stream",
     "text": [
      "welcome\n"
     ]
    }
   ],
   "source": [
    "print(\"welcome\")\n"
   ]
  },
  {
   "cell_type": "code",
   "execution_count": 2,
   "id": "4851dfc5",
   "metadata": {},
   "outputs": [
    {
     "name": "stdout",
     "output_type": "stream",
     "text": [
      "abcd+123\n"
     ]
    }
   ],
   "source": [
    "print(\"abcd+123\")"
   ]
  },
  {
   "cell_type": "code",
   "execution_count": 1,
   "id": "549282f1",
   "metadata": {},
   "outputs": [
    {
     "name": "stdout",
     "output_type": "stream",
     "text": [
      "Deepika B\n"
     ]
    }
   ],
   "source": [
    "print(\"Deepika B\")\n"
   ]
  },
  {
   "cell_type": "code",
   "execution_count": 1,
   "id": "31a5cdd0",
   "metadata": {},
   "outputs": [
    {
     "name": "stdout",
     "output_type": "stream",
     "text": [
      "Addition\n"
     ]
    }
   ],
   "source": [
    "print(\"Addition\")"
   ]
  },
  {
   "cell_type": "code",
   "execution_count": 1,
   "id": "ea51676f",
   "metadata": {},
   "outputs": [
    {
     "name": "stdout",
     "output_type": "stream",
     "text": [
      "control structure\n"
     ]
    }
   ],
   "source": [
    "print(\"control structure\")"
   ]
  },
  {
   "cell_type": "code",
   "execution_count": null,
   "id": "ceb270c9",
   "metadata": {},
   "outputs": [],
   "source": []
  }
 ],
 "metadata": {
  "kernelspec": {
   "display_name": "Python 3 (ipykernel)",
   "language": "python",
   "name": "python3"
  },
  "language_info": {
   "codemirror_mode": {
    "name": "ipython",
    "version": 3
   },
   "file_extension": ".py",
   "mimetype": "text/x-python",
   "name": "python",
   "nbconvert_exporter": "python",
   "pygments_lexer": "ipython3",
   "version": "3.11.5"
  }
 },
 "nbformat": 4,
 "nbformat_minor": 5
}
