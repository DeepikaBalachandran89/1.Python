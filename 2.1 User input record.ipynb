{
 "cells": [
  {
   "cell_type": "code",
   "execution_count": null,
   "id": "b79d2645",
   "metadata": {},
   "outputs": [],
   "source": [
    "print(\"User Record\")"
   ]
  },
  {
   "cell_type": "code",
   "execution_count": 1,
   "id": "704e6e6f",
   "metadata": {},
   "outputs": [
    {
     "name": "stdout",
     "output_type": "stream",
     "text": [
      "enter the num12\n"
     ]
    }
   ],
   "source": [
    "num1=int(input(\"enter the num1\"))"
   ]
  },
  {
   "cell_type": "code",
   "execution_count": 2,
   "id": "547437af",
   "metadata": {},
   "outputs": [
    {
     "name": "stdout",
     "output_type": "stream",
     "text": [
      "enter the num25\n"
     ]
    }
   ],
   "source": [
    "num2=int(input(\"enter the num2\"))"
   ]
  },
  {
   "cell_type": "code",
   "execution_count": 3,
   "id": "5497e68a",
   "metadata": {},
   "outputs": [
    {
     "name": "stdout",
     "output_type": "stream",
     "text": [
      "enter the name: addition\n"
     ]
    }
   ],
   "source": [
    "num=input(\"enter the name:\")"
   ]
  },
  {
   "cell_type": "code",
   "execution_count": 4,
   "id": "74ea49fd",
   "metadata": {},
   "outputs": [],
   "source": [
    "add=num1+num2\n"
   ]
  },
  {
   "cell_type": "code",
   "execution_count": 5,
   "id": "b1ffab5f",
   "metadata": {},
   "outputs": [
    {
     "name": "stdout",
     "output_type": "stream",
     "text": [
      "7\n"
     ]
    }
   ],
   "source": [
    "print(add)"
   ]
  },
  {
   "cell_type": "code",
   "execution_count": 9,
   "id": "e7bb0c8d",
   "metadata": {},
   "outputs": [
    {
     "name": "stdout",
     "output_type": "stream",
     "text": [
      "Addition\n"
     ]
    }
   ],
   "source": [
    "print(\"Addition\")"
   ]
  },
  {
   "cell_type": "code",
   "execution_count": 7,
   "id": "369f8a60",
   "metadata": {},
   "outputs": [
    {
     "name": "stdout",
     "output_type": "stream",
     "text": [
      "Enter the num3:7\n"
     ]
    }
   ],
   "source": [
    "num3=int(input(\"Enter the num3:\"))"
   ]
  },
  {
   "cell_type": "code",
   "execution_count": 8,
   "id": "ef7a11f8",
   "metadata": {},
   "outputs": [
    {
     "name": "stdout",
     "output_type": "stream",
     "text": [
      "Enter the num4:5\n"
     ]
    }
   ],
   "source": [
    "num4=int(input(\"Enter the num4:\"))"
   ]
  },
  {
   "cell_type": "code",
   "execution_count": 10,
   "id": "ac8d8327",
   "metadata": {},
   "outputs": [],
   "source": [
    "add=num3+num4"
   ]
  },
  {
   "cell_type": "code",
   "execution_count": 11,
   "id": "f3ebbef3",
   "metadata": {},
   "outputs": [
    {
     "name": "stdout",
     "output_type": "stream",
     "text": [
      "12\n"
     ]
    }
   ],
   "source": [
    "print(add)"
   ]
  },
  {
   "cell_type": "code",
   "execution_count": 14,
   "id": "ac0bd73f",
   "metadata": {},
   "outputs": [
    {
     "name": "stdout",
     "output_type": "stream",
     "text": [
      "Enter your Name:B Deepika\n"
     ]
    }
   ],
   "source": [
    "num=input(\"Enter your Name:\")"
   ]
  },
  {
   "cell_type": "code",
   "execution_count": 16,
   "id": "abb77218",
   "metadata": {},
   "outputs": [
    {
     "name": "stdout",
     "output_type": "stream",
     "text": [
      "Enter your Name:Ram\n"
     ]
    }
   ],
   "source": [
    "first=input(\"Enter your Name:\")\n"
   ]
  },
  {
   "cell_type": "code",
   "execution_count": 1,
   "id": "b105127d",
   "metadata": {},
   "outputs": [
    {
     "name": "stdout",
     "output_type": "stream",
     "text": [
      "Enter the number:50\n"
     ]
    }
   ],
   "source": [
    "second=int(input(\"Enter the number:\"))"
   ]
  },
  {
   "cell_type": "code",
   "execution_count": 3,
   "id": "87a4f518",
   "metadata": {},
   "outputs": [
    {
     "name": "stdout",
     "output_type": "stream",
     "text": [
      "Enter the number2:50\n"
     ]
    }
   ],
   "source": [
    "num=int(input(\"Enter the number2:\"))"
   ]
  },
  {
   "cell_type": "code",
   "execution_count": 4,
   "id": "1a41b11b",
   "metadata": {},
   "outputs": [
    {
     "name": "stdout",
     "output_type": "stream",
     "text": [
      "Enter the Name:Tharun\n"
     ]
    }
   ],
   "source": [
    "variable=input(\"Enter the Name:\")"
   ]
  },
  {
   "cell_type": "code",
   "execution_count": 1,
   "id": "947472e7",
   "metadata": {},
   "outputs": [
    {
     "name": "stdout",
     "output_type": "stream",
     "text": [
      "Enter the number:45\n"
     ]
    }
   ],
   "source": [
    "add=int(input(\"Enter the number:\"))"
   ]
  },
  {
   "cell_type": "code",
   "execution_count": 2,
   "id": "b29c9a21",
   "metadata": {},
   "outputs": [
    {
     "name": "stdout",
     "output_type": "stream",
     "text": [
      "Enter the Name:sai\n"
     ]
    }
   ],
   "source": [
    "ask=input(\"Enter the Name:\")"
   ]
  },
  {
   "cell_type": "code",
   "execution_count": 1,
   "id": "49169429",
   "metadata": {},
   "outputs": [
    {
     "name": "stdout",
     "output_type": "stream",
     "text": [
      "Enter the Number:56\n"
     ]
    }
   ],
   "source": [
    "Integer=int(input(\"Enter the Number:\"))"
   ]
  },
  {
   "cell_type": "code",
   "execution_count": 2,
   "id": "a954bf91",
   "metadata": {},
   "outputs": [
    {
     "name": "stdout",
     "output_type": "stream",
     "text": [
      "Enter the Name:Annamalai\n"
     ]
    }
   ],
   "source": [
    "variable=input(\"Enter the Name:\")"
   ]
  },
  {
   "cell_type": "code",
   "execution_count": null,
   "id": "2328ca70",
   "metadata": {},
   "outputs": [],
   "source": []
  }
 ],
 "metadata": {
  "kernelspec": {
   "display_name": "Python 3 (ipykernel)",
   "language": "python",
   "name": "python3"
  },
  "language_info": {
   "codemirror_mode": {
    "name": "ipython",
    "version": 3
   },
   "file_extension": ".py",
   "mimetype": "text/x-python",
   "name": "python",
   "nbconvert_exporter": "python",
   "pygments_lexer": "ipython3",
   "version": "3.11.5"
  }
 },
 "nbformat": 4,
 "nbformat_minor": 5
}
