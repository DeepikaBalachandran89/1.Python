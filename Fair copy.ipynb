{
 "cells": [
  {
   "cell_type": "code",
   "execution_count": 1,
   "id": "f34a7c94",
   "metadata": {},
   "outputs": [],
   "source": [
    "#mf1.py file output\n",
    "from mf1 import multiplefunctions1\n"
   ]
  },
  {
   "cell_type": "code",
   "execution_count": 19,
   "id": "cccef5f2",
   "metadata": {},
   "outputs": [
    {
     "name": "stdout",
     "output_type": "stream",
     "text": [
      "Enter the BMI:50\n",
      "Vey OverWeight\n"
     ]
    },
    {
     "data": {
      "text/plain": [
       "'Very OverWeight'"
      ]
     },
     "execution_count": 19,
     "metadata": {},
     "output_type": "execute_result"
    }
   ],
   "source": [
    "multiplefunctions1.BMI()"
   ]
  },
  {
   "cell_type": "code",
   "execution_count": 2,
   "id": "5e8f8d7f",
   "metadata": {},
   "outputs": [],
   "source": [
    "#mf1.py file output   #function-oops(MUltiple Conditions in set of proceedures)\n",
    "from mf2 import AgeCategory\n"
   ]
  },
  {
   "cell_type": "code",
   "execution_count": 3,
   "id": "2b1cda69",
   "metadata": {},
   "outputs": [
    {
     "name": "stdout",
     "output_type": "stream",
     "text": [
      "children\n",
      "citizen\n",
      "citizen\n",
      "senior citizen\n"
     ]
    }
   ],
   "source": [
    "AgeCategory()\n"
   ]
  },
  {
   "cell_type": "code",
   "execution_count": 4,
   "id": "cb65c77e",
   "metadata": {},
   "outputs": [
    {
     "name": "stdout",
     "output_type": "stream",
     "text": [
      "enter the number:4\n"
     ]
    }
   ],
   "source": [
    "#functions of single input in multiple proceedures\n",
    "from mf3 import AgeCategory\n"
   ]
  },
  {
   "cell_type": "code",
   "execution_count": 5,
   "id": "294d4d50",
   "metadata": {},
   "outputs": [
    {
     "name": "stdout",
     "output_type": "stream",
     "text": [
      "children\n"
     ]
    },
    {
     "data": {
      "text/plain": [
       "'children'"
      ]
     },
     "execution_count": 5,
     "metadata": {},
     "output_type": "execute_result"
    }
   ],
   "source": [
    "AgeCategory()"
   ]
  },
  {
   "cell_type": "code",
   "execution_count": 6,
   "id": "2439dcd1",
   "metadata": {},
   "outputs": [
    {
     "name": "stdout",
     "output_type": "stream",
     "text": [
      "enter the number:5\n",
      "children\n"
     ]
    }
   ],
   "source": [
    "#function with AgeCategory    with return\n",
    "from mf4 import AgeCategory\n",
    "\n"
   ]
  },
  {
   "cell_type": "code",
   "execution_count": 7,
   "id": "b6cbd3dd",
   "metadata": {},
   "outputs": [
    {
     "name": "stdout",
     "output_type": "stream",
     "text": [
      "children\n"
     ]
    },
    {
     "data": {
      "text/plain": [
       "'children'"
      ]
     },
     "execution_count": 7,
     "metadata": {},
     "output_type": "execute_result"
    }
   ],
   "source": [
    "AgeCategory()"
   ]
  },
  {
   "cell_type": "code",
   "execution_count": 11,
   "id": "ade96c62",
   "metadata": {},
   "outputs": [],
   "source": [
    "#function with AgeCategory    with noreturn\n",
    "from mf5 import AgeCategoryNO\n",
    "\n"
   ]
  },
  {
   "cell_type": "code",
   "execution_count": 12,
   "id": "eef228a3",
   "metadata": {},
   "outputs": [
    {
     "name": "stdout",
     "output_type": "stream",
     "text": [
      "children\n"
     ]
    }
   ],
   "source": [
    "AgeCategoryNO()"
   ]
  },
  {
   "cell_type": "code",
   "execution_count": 13,
   "id": "8f84a904",
   "metadata": {},
   "outputs": [],
   "source": [
    "#logic oddeven\n",
    "from mf6 import oddeven\n"
   ]
  },
  {
   "cell_type": "code",
   "execution_count": 14,
   "id": "7d516920",
   "metadata": {},
   "outputs": [
    {
     "name": "stdout",
     "output_type": "stream",
     "text": [
      "Enter the number:7\n",
      "Odd Number\n"
     ]
    },
    {
     "data": {
      "text/plain": [
       "'Odd Number'"
      ]
     },
     "execution_count": 14,
     "metadata": {},
     "output_type": "execute_result"
    }
   ],
   "source": [
    "oddeven()"
   ]
  },
  {
   "cell_type": "code",
   "execution_count": 15,
   "id": "190d9b5c",
   "metadata": {},
   "outputs": [],
   "source": [
    "#BMI in function\n",
    "from mf7 import BMI"
   ]
  },
  {
   "cell_type": "code",
   "execution_count": 16,
   "id": "de0feffb",
   "metadata": {},
   "outputs": [
    {
     "name": "stdout",
     "output_type": "stream",
     "text": [
      "Enter the BMI:45\n",
      "Vey OverWeight\n"
     ]
    },
    {
     "data": {
      "text/plain": [
       "'Very OverWeight'"
      ]
     },
     "execution_count": 16,
     "metadata": {},
     "output_type": "execute_result"
    }
   ],
   "source": [
    "BMI()"
   ]
  },
  {
   "cell_type": "code",
   "execution_count": 17,
   "id": "2027797a",
   "metadata": {},
   "outputs": [],
   "source": [
    "##MF CLASS \n",
    "from mfclass8 import calculator"
   ]
  },
  {
   "cell_type": "code",
   "execution_count": 18,
   "id": "dce79ae4",
   "metadata": {},
   "outputs": [
    {
     "data": {
      "text/plain": [
       "9"
      ]
     },
     "execution_count": 18,
     "metadata": {},
     "output_type": "execute_result"
    }
   ],
   "source": [
    "calculator.addition(4,5)"
   ]
  },
  {
   "cell_type": "code",
   "execution_count": null,
   "id": "81b6a84b",
   "metadata": {},
   "outputs": [],
   "source": []
  }
 ],
 "metadata": {
  "kernelspec": {
   "display_name": "Python 3 (ipykernel)",
   "language": "python",
   "name": "python3"
  },
  "language_info": {
   "codemirror_mode": {
    "name": "ipython",
    "version": 3
   },
   "file_extension": ".py",
   "mimetype": "text/x-python",
   "name": "python",
   "nbconvert_exporter": "python",
   "pygments_lexer": "ipython3",
   "version": "3.11.5"
  }
 },
 "nbformat": 4,
 "nbformat_minor": 5
}
