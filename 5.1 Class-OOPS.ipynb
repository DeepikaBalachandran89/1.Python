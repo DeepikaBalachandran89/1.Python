{
 "cells": [
  {
   "cell_type": "code",
   "execution_count": 14,
   "id": "21847da8",
   "metadata": {},
   "outputs": [],
   "source": [
    "# ADDITION\n",
    "def addition(a,b):\n",
    "    add=a+b\n",
    "    return add"
   ]
  },
  {
   "cell_type": "code",
   "execution_count": 15,
   "id": "30f46eba",
   "metadata": {},
   "outputs": [
    {
     "data": {
      "text/plain": [
       "9"
      ]
     },
     "execution_count": 15,
     "metadata": {},
     "output_type": "execute_result"
    }
   ],
   "source": [
    "addition(5,4)"
   ]
  },
  {
   "cell_type": "code",
   "execution_count": 20,
   "id": "0e47dd13",
   "metadata": {},
   "outputs": [],
   "source": [
    "#SUBTRACTION\n",
    "def subtraction(num1,num2):\n",
    "    sub=num1-num2\n",
    "    return sub"
   ]
  },
  {
   "cell_type": "code",
   "execution_count": 21,
   "id": "45108b5a",
   "metadata": {},
   "outputs": [
    {
     "data": {
      "text/plain": [
       "1"
      ]
     },
     "execution_count": 21,
     "metadata": {},
     "output_type": "execute_result"
    }
   ],
   "source": [
    "subtraction(5,4)"
   ]
  },
  {
   "cell_type": "code",
   "execution_count": 25,
   "id": "c484dd44",
   "metadata": {},
   "outputs": [],
   "source": [
    "class calculator():\n",
    "    def addition(a,b):\n",
    "        add=a+b\n",
    "        return add\n",
    "    def subtraction(a,b):\n",
    "        sub=a-b\n",
    "        return sub"
   ]
  },
  {
   "cell_type": "code",
   "execution_count": 27,
   "id": "25102f3c",
   "metadata": {},
   "outputs": [
    {
     "data": {
      "text/plain": [
       "9"
      ]
     },
     "execution_count": 27,
     "metadata": {},
     "output_type": "execute_result"
    }
   ],
   "source": [
    "calculator.addition(4,5)"
   ]
  },
  {
   "cell_type": "code",
   "execution_count": null,
   "id": "855ac820",
   "metadata": {},
   "outputs": [],
   "source": [
    "#CLASS MULTIPLE FUNCTIONS"
   ]
  },
  {
   "cell_type": "code",
   "execution_count": 22,
   "id": "4b8b4ddd",
   "metadata": {},
   "outputs": [],
   "source": [
    "class multiplefunctions():\n",
    "    def oddeven():\n",
    "        num=int(input(\"Enter the number:\"))\n",
    "        if((num%2)==0):\n",
    "            print(\"Even Number\")\n",
    "            con=\"Even Number\"\n",
    "        else:\n",
    "            print(\"Odd Number\")\n",
    "            con=\"Odd Number\"\n",
    "        return con\n",
    "    def BMI():\n",
    "        BMI=int(input(\"Enter the BMI:\"))\n",
    "        if(BMI<18.5):\n",
    "            print(\"UnderWeight\")\n",
    "            body=\"UnderWeight\"\n",
    "        elif(BMI<24.9):\n",
    "            print(\"Normal\")\n",
    "            body=\"Normal\"\n",
    "        elif(BMI<29.9):\n",
    "            print(\"Overweight\")\n",
    "            body=\"Overweight\"\n",
    "        else:\n",
    "            print(\"Vey OverWeight\")\n",
    "            body=\"Very OverWeight\"\n",
    "        return body"
   ]
  },
  {
   "cell_type": "code",
   "execution_count": 23,
   "id": "77d72782",
   "metadata": {},
   "outputs": [
    {
     "name": "stdout",
     "output_type": "stream",
     "text": [
      "Enter the BMI:28\n",
      "Overweight\n"
     ]
    },
    {
     "data": {
      "text/plain": [
       "'Overweight'"
      ]
     },
     "execution_count": 23,
     "metadata": {},
     "output_type": "execute_result"
    }
   ],
   "source": [
    "multiplefunctions.BMI()"
   ]
  },
  {
   "cell_type": "code",
   "execution_count": 24,
   "id": "a8d02106",
   "metadata": {},
   "outputs": [
    {
     "name": "stdout",
     "output_type": "stream",
     "text": [
      "Enter the number:6\n",
      "Even Number\n"
     ]
    },
    {
     "data": {
      "text/plain": [
       "'Even Number'"
      ]
     },
     "execution_count": 24,
     "metadata": {},
     "output_type": "execute_result"
    }
   ],
   "source": [
    "multiplefunctions.oddeven()"
   ]
  },
  {
   "cell_type": "code",
   "execution_count": null,
   "id": "0d80ab1c",
   "metadata": {},
   "outputs": [],
   "source": []
  }
 ],
 "metadata": {
  "kernelspec": {
   "display_name": "Python 3 (ipykernel)",
   "language": "python",
   "name": "python3"
  },
  "language_info": {
   "codemirror_mode": {
    "name": "ipython",
    "version": 3
   },
   "file_extension": ".py",
   "mimetype": "text/x-python",
   "name": "python",
   "nbconvert_exporter": "python",
   "pygments_lexer": "ipython3",
   "version": "3.11.5"
  }
 },
 "nbformat": 4,
 "nbformat_minor": 5
}
