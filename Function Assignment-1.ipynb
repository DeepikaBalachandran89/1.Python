{
 "cells": [
  {
   "cell_type": "code",
   "execution_count": 7,
   "id": "c1653157",
   "metadata": {},
   "outputs": [],
   "source": [
    "class SubfieldsInAI():\n",
    "    def Subfields():\n",
    "        print(\"Sub-fields in AI are:\")\n",
    "        print(\"Machine Learning\")\n",
    "        message=\"Machine Learning\"\n",
    "        print(\"Neural Networks\")\n",
    "        message=\"Neural Networks\"\n",
    "        print(\"Vision\")\n",
    "        message=\"Vision\"\n",
    "        print(\"Robotics\")\n",
    "        message=\"Robotics\"\n",
    "        print(\"Speech Processing\")\n",
    "        message=\"Speech Processing\"\n",
    "        print(\"Natural Language Processing\")\n",
    "        message=\"Natural Language Processing\"\n",
    "        return message"
   ]
  },
  {
   "cell_type": "code",
   "execution_count": 8,
   "id": "5ef85de4",
   "metadata": {},
   "outputs": [
    {
     "name": "stdout",
     "output_type": "stream",
     "text": [
      "Sub-fields in AI are:\n",
      "Machine Learning\n",
      "Neural Networks\n",
      "Vision\n",
      "Robotics\n",
      "Speech Processing\n",
      "Natural Language Processing\n"
     ]
    },
    {
     "data": {
      "text/plain": [
       "'Natural Language Processing'"
      ]
     },
     "execution_count": 8,
     "metadata": {},
     "output_type": "execute_result"
    }
   ],
   "source": [
    "#RESULT\n",
    "SubfieldsInAI.Subfields()"
   ]
  },
  {
   "cell_type": "code",
   "execution_count": 9,
   "id": "40f14330",
   "metadata": {},
   "outputs": [],
   "source": [
    "class oddeven():\n",
    "    def oddeven():\n",
    "        num=int(input(\"Enter the number:\"))\n",
    "        if((num%2)==0):\n",
    "            print(num,\"is Even Number\")\n",
    "            con=\"Even Number\"\n",
    "        else:\n",
    "            print(num,\"is Odd Number\")\n",
    "            con=\"Odd Number\"\n",
    "        return con\n",
    "    def BMI():\n",
    "        BMI=int(input(\"Enter the BMI:\"))\n",
    "        if(BMI<18.5):\n",
    "            print(\"UnderWeight\")\n",
    "            body=\"UnderWeight\"\n",
    "        elif(BMI<24.9):\n",
    "            print(\"Normal\")\n",
    "            body=\"Normal\"\n",
    "        elif(BMI<29.9):\n",
    "            print(\"Overweight\")\n",
    "            body=\"Overweight\"\n",
    "        else:\n",
    "            print(\"Very OverWeight\")\n",
    "            body=\"Very OverWeight\"\n",
    "        return body\n"
   ]
  },
  {
   "cell_type": "code",
   "execution_count": 14,
   "id": "4999fcfc",
   "metadata": {},
   "outputs": [
    {
     "name": "stdout",
     "output_type": "stream",
     "text": [
      "Enter the BMI:52452\n",
      "Very OverWeight\n"
     ]
    },
    {
     "data": {
      "text/plain": [
       "'Very OverWeight'"
      ]
     },
     "execution_count": 14,
     "metadata": {},
     "output_type": "execute_result"
    }
   ],
   "source": [
    "oddeven.BMI()"
   ]
  },
  {
   "cell_type": "code",
   "execution_count": 15,
   "id": "b57d5097",
   "metadata": {},
   "outputs": [
    {
     "name": "stdout",
     "output_type": "stream",
     "text": [
      "Enter the number:52452\n",
      "52452 is Even Number\n"
     ]
    },
    {
     "data": {
      "text/plain": [
       "'Even Number'"
      ]
     },
     "execution_count": 15,
     "metadata": {},
     "output_type": "execute_result"
    }
   ],
   "source": [
    "#RESULT\n",
    "oddeven.oddeven()"
   ]
  },
  {
   "cell_type": "code",
   "execution_count": 12,
   "id": "21f98060",
   "metadata": {},
   "outputs": [],
   "source": [
    "class EligiblityForMarriage():\n",
    "    def Eligible():\n",
    "        age=input(\"Your Gender:\")\n",
    "        age=int(input(\"Your Age:\"))\n",
    "        if(age<=18):\n",
    "            print(\"Eligible\")\n",
    "            mor=\"Eligible\"\n",
    "        else:\n",
    "            print(\"Not Eligible\")\n",
    "            mor=\"Not Eligible\"\n",
    "        return mor\n",
    "        \n",
    "        "
   ]
  },
  {
   "cell_type": "code",
   "execution_count": 13,
   "id": "cb76d6a6",
   "metadata": {},
   "outputs": [
    {
     "name": "stdout",
     "output_type": "stream",
     "text": [
      "Your Gender:Male\n",
      "Your Age:20\n",
      "Not Eligible\n"
     ]
    },
    {
     "data": {
      "text/plain": [
       "'Not Eligible'"
      ]
     },
     "execution_count": 13,
     "metadata": {},
     "output_type": "execute_result"
    }
   ],
   "source": [
    "#RESULT\n",
    "EligiblityForMarriage.Eligible()"
   ]
  },
  {
   "cell_type": "code",
   "execution_count": 3,
   "id": "18138341",
   "metadata": {},
   "outputs": [],
   "source": [
    "class FindPercent():\n",
    "    def Percentage():\n",
    "        a=int(input(\"subject1:\"))\n",
    "        b=int(input(\"subject2:\"))\n",
    "        c=int(input(\"subject3:\"))\n",
    "        d=int(input(\"subject4:\"))\n",
    "        e=int(input(\"subject5:\"))\n",
    "        sum=a+b+c+d+e\n",
    "        per=(sum/500)*100\n",
    "        print(\"total:\",sum)\n",
    "        print(\"percentage\",per)\n",
    "    \n",
    "        \n",
    "    "
   ]
  },
  {
   "cell_type": "code",
   "execution_count": 4,
   "id": "af752004",
   "metadata": {},
   "outputs": [
    {
     "name": "stdout",
     "output_type": "stream",
     "text": [
      "subject1:98\n",
      "subject2:87\n",
      "subject3:95\n",
      "subject4:95\n",
      "subject5:93\n",
      "total: 468\n",
      "percentage 93.60000000000001\n"
     ]
    }
   ],
   "source": [
    "#ANSWER\n",
    "FindPercent.Percentage()\n",
    "    \n",
    "\n"
   ]
  },
  {
   "cell_type": "code",
   "execution_count": 5,
   "id": "35ea7b25",
   "metadata": {},
   "outputs": [],
   "source": [
    "class triangle():\n",
    "    def triangle():\n",
    "        Height=int(input(\"Height:\"))\n",
    "        Breadth=int(input(\"Breadth:\"))\n",
    "        print(\"Area Formula:(Height*Breadth)/2\")\n",
    "        A1=(Height*Breadth)/2\n",
    "        print(\"Area of Triangle:\",A1)\n",
    "        Height1=int(input(\"Height1:\"))\n",
    "        Height2=int(input(\"Height2:\"))\n",
    "        Breadth=int(input(\"Breadth:\"))\n",
    "        print(\"Perimeter Formula:Height1+Height2+Breadth\")\n",
    "        A2=Height1+Height2+Breadth\n",
    "        print(\"Perimeter of Triangle:\",A2)\n",
    "\n",
    "\n",
    "\n"
   ]
  },
  {
   "cell_type": "code",
   "execution_count": 6,
   "id": "238eaec5",
   "metadata": {},
   "outputs": [
    {
     "name": "stdout",
     "output_type": "stream",
     "text": [
      "Height:32\n",
      "Breadth:34\n",
      "Area Formula:(Height*Breadth)/2\n",
      "Area of Triangle: 544.0\n",
      "Height1:2\n",
      "Height2:4\n",
      "Breadth:4\n",
      "Perimeter Formula:Height1+Height2+Breadth\n",
      "Perimeter of Triangle: 10\n"
     ]
    }
   ],
   "source": [
    "#result\n",
    "triangle.triangle()"
   ]
  },
  {
   "cell_type": "code",
   "execution_count": null,
   "id": "133adb2c",
   "metadata": {},
   "outputs": [],
   "source": []
  }
 ],
 "metadata": {
  "kernelspec": {
   "display_name": "Python 3 (ipykernel)",
   "language": "python",
   "name": "python3"
  },
  "language_info": {
   "codemirror_mode": {
    "name": "ipython",
    "version": 3
   },
   "file_extension": ".py",
   "mimetype": "text/x-python",
   "name": "python",
   "nbconvert_exporter": "python",
   "pygments_lexer": "ipython3",
   "version": "3.11.5"
  }
 },
 "nbformat": 4,
 "nbformat_minor": 5
}
