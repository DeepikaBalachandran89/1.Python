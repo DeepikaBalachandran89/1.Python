{
 "cells": [
  {
   "cell_type": "code",
   "execution_count": 5,
   "id": "404c6933",
   "metadata": {},
   "outputs": [
    {
     "name": "stdout",
     "output_type": "stream",
     "text": [
      "Enter the Number1:4\n",
      "Enter the Number2:5\n"
     ]
    }
   ],
   "source": [
    "Number1=int(input(\"Enter the Number1:\"))\n",
    "Number2=int(input(\"Enter the Number2:\"))"
   ]
  },
  {
   "cell_type": "code",
   "execution_count": 6,
   "id": "9119d8f0",
   "metadata": {},
   "outputs": [
    {
     "name": "stdout",
     "output_type": "stream",
     "text": [
      "Addition Of Two Numbers: 9\n"
     ]
    }
   ],
   "source": [
    "def addition(Number1,Number2):\n",
    "    addition=Number1+Number2\n",
    "    return addition\n",
    "print(\"Addition Of Two Numbers:\",Number1+Number2)"
   ]
  },
  {
   "cell_type": "code",
   "execution_count": null,
   "id": "ef3883cd",
   "metadata": {},
   "outputs": [],
   "source": [
    "#with AgeCategory"
   ]
  },
  {
   "cell_type": "code",
   "execution_count": 7,
   "id": "6131b1ed",
   "metadata": {},
   "outputs": [],
   "source": [
    "def AgeCategory():\n",
    "        if(age<19):\n",
    "            print(\"children\")\n",
    "            vari=\"children\"\n",
    "        elif(age<35):\n",
    "            print(\"adult\")\n",
    "            vari=\"adult\"\n",
    "        elif(age<59):\n",
    "            print(\"citizen\")\n",
    "            vari=\"citizen\"\n",
    "        else:\n",
    "            print(\"senior citizen\")\n",
    "        return vari"
   ]
  },
  {
   "cell_type": "code",
   "execution_count": 8,
   "id": "3e6cb05e",
   "metadata": {},
   "outputs": [
    {
     "name": "stdout",
     "output_type": "stream",
     "text": [
      "enter the number:30\n",
      "adult\n"
     ]
    }
   ],
   "source": [
    "age=int(input(\"enter the number:\"))\n",
    "deepika=AgeCategory()"
   ]
  },
  {
   "cell_type": "code",
   "execution_count": 10,
   "id": "4b72aafe",
   "metadata": {},
   "outputs": [
    {
     "name": "stdout",
     "output_type": "stream",
     "text": [
      "adult\n"
     ]
    }
   ],
   "source": [
    "print(deepika)"
   ]
  },
  {
   "cell_type": "code",
   "execution_count": 11,
   "id": "b255a343",
   "metadata": {},
   "outputs": [
    {
     "data": {
      "text/plain": [
       "'adult'"
      ]
     },
     "execution_count": 11,
     "metadata": {},
     "output_type": "execute_result"
    }
   ],
   "source": [
    "deepika"
   ]
  },
  {
   "cell_type": "code",
   "execution_count": null,
   "id": "54367d9b",
   "metadata": {},
   "outputs": [],
   "source": [
    "#with NO AgeCategory"
   ]
  },
  {
   "cell_type": "code",
   "execution_count": 12,
   "id": "53250933",
   "metadata": {},
   "outputs": [],
   "source": [
    "def AgeCategoryNO():\n",
    "        if(age<19):\n",
    "            print(\"children\")\n",
    "            vari=\"children\"\n",
    "        elif(age<35):\n",
    "            print(\"adult\")\n",
    "            vari=\"adult\"\n",
    "        elif(age<59):\n",
    "            print(\"citizen\")\n",
    "            vari=\"citizen\"\n",
    "        else:\n",
    "            print(\"senior citizen\")"
   ]
  },
  {
   "cell_type": "code",
   "execution_count": 15,
   "id": "291c27e6",
   "metadata": {},
   "outputs": [
    {
     "name": "stdout",
     "output_type": "stream",
     "text": [
      "enter the number:50\n",
      "citizen\n"
     ]
    }
   ],
   "source": [
    "age=int(input(\"enter the number:\"))\n",
    "deepika=AgeCategoryNO()"
   ]
  },
  {
   "cell_type": "code",
   "execution_count": 16,
   "id": "680fe76b",
   "metadata": {},
   "outputs": [
    {
     "name": "stdout",
     "output_type": "stream",
     "text": [
      "None\n"
     ]
    }
   ],
   "source": [
    "print(deepika)"
   ]
  },
  {
   "cell_type": "code",
   "execution_count": 19,
   "id": "48d73cbc",
   "metadata": {},
   "outputs": [
    {
     "name": "stdout",
     "output_type": "stream",
     "text": [
      "citizen\n"
     ]
    }
   ],
   "source": [
    "deepika=AgeCategory()"
   ]
  },
  {
   "cell_type": "code",
   "execution_count": 20,
   "id": "26173a77",
   "metadata": {},
   "outputs": [
    {
     "data": {
      "text/plain": [
       "'citizen'"
      ]
     },
     "execution_count": 20,
     "metadata": {},
     "output_type": "execute_result"
    }
   ],
   "source": [
    "deepika"
   ]
  },
  {
   "cell_type": "code",
   "execution_count": 21,
   "id": "8c5d02c5",
   "metadata": {},
   "outputs": [],
   "source": [
    "#logic oddeven"
   ]
  },
  {
   "cell_type": "code",
   "execution_count": 27,
   "id": "74f5087a",
   "metadata": {},
   "outputs": [],
   "source": [
    "def oddeven():\n",
    "    num=int(input(\"Enter the number:\"))\n",
    "    if((num%2)==0):\n",
    "        print(\"Even Number\")\n",
    "        con=\"Even Number\"\n",
    "    else:\n",
    "        print(\"Odd Number\")\n",
    "        con=\"Odd Number\"\n",
    "    return con"
   ]
  },
  {
   "cell_type": "code",
   "execution_count": 28,
   "id": "6251a6d6",
   "metadata": {},
   "outputs": [
    {
     "name": "stdout",
     "output_type": "stream",
     "text": [
      "Enter the number:6\n",
      "Even Number\n"
     ]
    },
    {
     "data": {
      "text/plain": [
       "'Even Number'"
      ]
     },
     "execution_count": 28,
     "metadata": {},
     "output_type": "execute_result"
    }
   ],
   "source": [
    "oddeven()"
   ]
  },
  {
   "cell_type": "code",
   "execution_count": 29,
   "id": "48605653",
   "metadata": {},
   "outputs": [
    {
     "name": "stdout",
     "output_type": "stream",
     "text": [
      "Enter the number:5\n",
      "Odd Number\n"
     ]
    }
   ],
   "source": [
    "var1=oddeven()"
   ]
  },
  {
   "cell_type": "code",
   "execution_count": 32,
   "id": "4943a851",
   "metadata": {},
   "outputs": [
    {
     "name": "stdout",
     "output_type": "stream",
     "text": [
      "The Given Number is Even\n"
     ]
    }
   ],
   "source": [
    "if(var1==\"Even Number\"):\n",
    "    print(\"The Given Number is Even\")\n",
    "else:\n",
    "    print(\"The Given Number is Odd\")"
   ]
  },
  {
   "cell_type": "code",
   "execution_count": null,
   "id": "10a4099c",
   "metadata": {},
   "outputs": [],
   "source": [
    "#up odd even program down iam used"
   ]
  },
  {
   "cell_type": "code",
   "execution_count": 33,
   "id": "89d8f74e",
   "metadata": {},
   "outputs": [
    {
     "name": "stdout",
     "output_type": "stream",
     "text": [
      "Enter the number:7\n",
      "Odd Number\n",
      "The Given Number is Odd\n"
     ]
    }
   ],
   "source": [
    "var1=oddeven()\n",
    "if(var1==\"Even Number\"):\n",
    "    print(\"The Given Number is Even\")\n",
    "else:\n",
    "    print(\"The Given Number is Odd\")"
   ]
  },
  {
   "cell_type": "code",
   "execution_count": null,
   "id": "705034e8",
   "metadata": {},
   "outputs": [],
   "source": []
  }
 ],
 "metadata": {
  "kernelspec": {
   "display_name": "Python 3 (ipykernel)",
   "language": "python",
   "name": "python3"
  },
  "language_info": {
   "codemirror_mode": {
    "name": "ipython",
    "version": 3
   },
   "file_extension": ".py",
   "mimetype": "text/x-python",
   "name": "python",
   "nbconvert_exporter": "python",
   "pygments_lexer": "ipython3",
   "version": "3.11.5"
  }
 },
 "nbformat": 4,
 "nbformat_minor": 5
}
