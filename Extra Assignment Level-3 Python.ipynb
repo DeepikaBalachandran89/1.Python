{
 "cells": [
  {
   "cell_type": "code",
   "execution_count": 58,
   "id": "cadd0c04",
   "metadata": {},
   "outputs": [],
   "source": [
    "list=[10]"
   ]
  },
  {
   "cell_type": "code",
   "execution_count": 30,
   "id": "56896996",
   "metadata": {},
   "outputs": [
    {
     "name": "stdout",
     "output_type": "stream",
     "text": [
      "value: 10\n",
      "correct\n"
     ]
    }
   ],
   "source": [
    "for num in list:\n",
    "    print(\"value:\",num)\n",
    "    if(num==10):\n",
    "        print(\"correct\")"
   ]
  },
  {
   "cell_type": "code",
   "execution_count": 10,
   "id": "588423d5",
   "metadata": {},
   "outputs": [
    {
     "name": "stdout",
     "output_type": "stream",
     "text": [
      "Enter the password: HOPE@123\n",
      "your password is correct\n"
     ]
    }
   ],
   "source": [
    "if(password==\"HOPE@123\"):\n",
    "        print(\"Enter the password:\",password)\n",
    "        print(\"your password is correct\")\n",
    "else:\n",
    "        print(\"no\")\n",
    "        \n",
    "    "
   ]
  },
  {
   "cell_type": "code",
   "execution_count": 33,
   "id": "277cd3fc",
   "metadata": {},
   "outputs": [
    {
     "name": "stdout",
     "output_type": "stream",
     "text": [
      "enter the number:20\n"
     ]
    }
   ],
   "source": [
    "age=int(input(\"enter the number:\"))"
   ]
  },
  {
   "cell_type": "code",
   "execution_count": 34,
   "id": "86a92708",
   "metadata": {},
   "outputs": [
    {
     "name": "stdout",
     "output_type": "stream",
     "text": [
      "age: 20\n",
      "Adult\n"
     ]
    }
   ],
   "source": [
    "\n",
    "    if(age<25):\n",
    "        print(\"age:\",age)\n",
    "        print(\"Adult\")\n",
    "    elif(age<40):\n",
    "        print(\"age:\",age)\n",
    "        print(\"citizen\")\n",
    "    else:\n",
    "        print(\"age:\",age)\n",
    "        print(\"Senior Citizen\")\n",
    "    "
   ]
  },
  {
   "cell_type": "code",
   "execution_count": 46,
   "id": "011192d0",
   "metadata": {},
   "outputs": [
    {
     "name": "stdout",
     "output_type": "stream",
     "text": [
      "enter the number:1\n"
     ]
    }
   ],
   "source": [
    "number=int(input(\"enter the number:\"))\n"
   ]
  },
  {
   "cell_type": "code",
   "execution_count": 47,
   "id": "9ed40fba",
   "metadata": {},
   "outputs": [
    {
     "name": "stdout",
     "output_type": "stream",
     "text": [
      "Enter any number: 1\n",
      "No is Positive\n"
     ]
    }
   ],
   "source": [
    "print(\"Enter any number:\",number)\n",
    "if(number<=0):\n",
    "    print(\"No is Negative\")\n",
    "else:\n",
    "    print(\"No is Positive\")"
   ]
  },
  {
   "cell_type": "code",
   "execution_count": 55,
   "id": "39817737",
   "metadata": {},
   "outputs": [
    {
     "name": "stdout",
     "output_type": "stream",
     "text": [
      "enter the number:22\n"
     ]
    }
   ],
   "source": [
    "number=int(input(\"enter the number:\"))\n"
   ]
  },
  {
   "cell_type": "code",
   "execution_count": 56,
   "id": "a7e3f7c2",
   "metadata": {},
   "outputs": [
    {
     "name": "stdout",
     "output_type": "stream",
     "text": [
      "Enter a number to check: 22\n",
      "No is Not Divisible by 5\n"
     ]
    }
   ],
   "source": [
    "print(\"Enter a number to check:\",number)\n",
    "if((number%5)==0):\n",
    "    print(\"No is Divisible by 5\")\n",
    "else:\n",
    "    print(\"No is Not Divisible by 5\")"
   ]
  },
  {
   "cell_type": "code",
   "execution_count": null,
   "id": "f32bb3fe",
   "metadata": {},
   "outputs": [],
   "source": []
  }
 ],
 "metadata": {
  "kernelspec": {
   "display_name": "Python 3 (ipykernel)",
   "language": "python",
   "name": "python3"
  },
  "language_info": {
   "codemirror_mode": {
    "name": "ipython",
    "version": 3
   },
   "file_extension": ".py",
   "mimetype": "text/x-python",
   "name": "python",
   "nbconvert_exporter": "python",
   "pygments_lexer": "ipython3",
   "version": "3.11.5"
  }
 },
 "nbformat": 4,
 "nbformat_minor": 5
}
