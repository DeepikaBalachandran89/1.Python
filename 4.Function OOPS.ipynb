{
 "cells": [
  {
   "cell_type": "code",
   "execution_count": 1,
   "id": "f0c0f728",
   "metadata": {},
   "outputs": [
    {
     "name": "stdout",
     "output_type": "stream",
     "text": [
      "enter the number a:3\n",
      "enter the number b:4\n"
     ]
    }
   ],
   "source": [
    "num1=int(input(\"enter the number a:\"))\n",
    "num2=int(input(\"enter the number b:\"))"
   ]
  },
  {
   "cell_type": "code",
   "execution_count": 2,
   "id": "455cd8a9",
   "metadata": {},
   "outputs": [
    {
     "name": "stdout",
     "output_type": "stream",
     "text": [
      "sum: 7\n"
     ]
    }
   ],
   "source": [
    "def addition(a,b):\n",
    "    addition=a+b\n",
    "    return addition\n",
    "print(\"sum:\",num1+num2)"
   ]
  },
  {
   "cell_type": "code",
   "execution_count": null,
   "id": "cbdbfc7a",
   "metadata": {},
   "outputs": [],
   "source": [
    "#function-oops(MUltiple Conditions in set of proceedures)"
   ]
  },
  {
   "cell_type": "code",
   "execution_count": 3,
   "id": "bf8c1cbc",
   "metadata": {},
   "outputs": [],
   "source": [
    "lists=[10,40,50,60]"
   ]
  },
  {
   "cell_type": "code",
   "execution_count": 4,
   "id": "dde22a6a",
   "metadata": {},
   "outputs": [],
   "source": [
    "def AgeCategory():\n",
    "    for age in lists:\n",
    "        if(age<19):\n",
    "            print(\"children\")\n",
    "        elif(age<35):\n",
    "            print(\"adult\")\n",
    "        elif(age<59):\n",
    "            print(\"citizen\")\n",
    "        else:\n",
    "            print(\"senior citizen\")"
   ]
  },
  {
   "cell_type": "code",
   "execution_count": 5,
   "id": "d95242ae",
   "metadata": {},
   "outputs": [
    {
     "name": "stdout",
     "output_type": "stream",
     "text": [
      "children\n",
      "citizen\n",
      "citizen\n",
      "senior citizen\n"
     ]
    }
   ],
   "source": [
    "AgeCategory()"
   ]
  },
  {
   "cell_type": "code",
   "execution_count": 6,
   "id": "5b6a5588",
   "metadata": {},
   "outputs": [],
   "source": [
    "#functions of single input in multiple proceedures\n"
   ]
  },
  {
   "cell_type": "code",
   "execution_count": 12,
   "id": "7100f2e4",
   "metadata": {},
   "outputs": [
    {
     "name": "stdout",
     "output_type": "stream",
     "text": [
      "enter the number:40\n"
     ]
    }
   ],
   "source": [
    "age=int(input(\"enter the number:\"))"
   ]
  },
  {
   "cell_type": "code",
   "execution_count": 13,
   "id": "bad95a19",
   "metadata": {},
   "outputs": [],
   "source": [
    "def AgeCategory():\n",
    "        if(age<19):\n",
    "            print(\"children\")\n",
    "            vari=\"children\"\n",
    "        elif(age<35):\n",
    "            print(\"adult\")\n",
    "            vari=\"adult\"\n",
    "        elif(age<59):\n",
    "            print(\"citizen\")\n",
    "            vari=\"citizen\"\n",
    "        else:\n",
    "            print(\"senior citizen\")\n",
    "        return vari"
   ]
  },
  {
   "cell_type": "code",
   "execution_count": 10,
   "id": "66aa344b",
   "metadata": {},
   "outputs": [
    {
     "name": "stdout",
     "output_type": "stream",
     "text": [
      "children\n"
     ]
    }
   ],
   "source": [
    "AgeCategory()"
   ]
  },
  {
   "cell_type": "code",
   "execution_count": 14,
   "id": "f2b0e8c6",
   "metadata": {},
   "outputs": [
    {
     "name": "stdout",
     "output_type": "stream",
     "text": [
      "citizen\n"
     ]
    }
   ],
   "source": [
    "Agecate=AgeCategory()"
   ]
  },
  {
   "cell_type": "code",
   "execution_count": 15,
   "id": "76ab8588",
   "metadata": {},
   "outputs": [
    {
     "data": {
      "text/plain": [
       "'citizen'"
      ]
     },
     "execution_count": 15,
     "metadata": {},
     "output_type": "execute_result"
    }
   ],
   "source": [
    "Agecate"
   ]
  },
  {
   "cell_type": "code",
   "execution_count": 16,
   "id": "b893f1ca",
   "metadata": {},
   "outputs": [
    {
     "name": "stdout",
     "output_type": "stream",
     "text": [
      "citizen\n"
     ]
    }
   ],
   "source": [
    "deep1=AgeCategory()"
   ]
  },
  {
   "cell_type": "code",
   "execution_count": null,
   "id": "7bf898c1",
   "metadata": {},
   "outputs": [],
   "source": []
  }
 ],
 "metadata": {
  "kernelspec": {
   "display_name": "Python 3 (ipykernel)",
   "language": "python",
   "name": "python3"
  },
  "language_info": {
   "codemirror_mode": {
    "name": "ipython",
    "version": 3
   },
   "file_extension": ".py",
   "mimetype": "text/x-python",
   "name": "python",
   "nbconvert_exporter": "python",
   "pygments_lexer": "ipython3",
   "version": "3.11.5"
  }
 },
 "nbformat": 4,
 "nbformat_minor": 5
}
