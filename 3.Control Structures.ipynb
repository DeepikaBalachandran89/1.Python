{
 "cells": [
  {
   "cell_type": "code",
   "execution_count": null,
   "id": "495c151b",
   "metadata": {},
   "outputs": [],
   "source": [
    "man=int(input(\"Enter the Age Number:\"))"
   ]
  },
  {
   "cell_type": "code",
   "execution_count": null,
   "id": "a08fa0e8",
   "metadata": {
    "scrolled": true
   },
   "outputs": [],
   "source": [
    "if(man==19):\n",
    "    print(\"Adult\")\n"
   ]
  },
  {
   "cell_type": "code",
   "execution_count": null,
   "id": "a175d4ed",
   "metadata": {},
   "outputs": [],
   "source": [
    "age=int(input(\"Enter the Age:\"))"
   ]
  },
  {
   "cell_type": "code",
   "execution_count": null,
   "id": "9c5b0327",
   "metadata": {},
   "outputs": [],
   "source": [
    "if(age<18):\n",
    "    print(\"children\")\n",
    "else:\n",
    "    print(\"Adult\")\n"
   ]
  },
  {
   "cell_type": "code",
   "execution_count": null,
   "id": "cc97e6b3",
   "metadata": {},
   "outputs": [],
   "source": [
    "age=int(input(\"enter the age:\"))"
   ]
  },
  {
   "cell_type": "code",
   "execution_count": null,
   "id": "470a0186",
   "metadata": {},
   "outputs": [],
   "source": [
    "if(age==12):\n",
    "    print(\"children\")"
   ]
  },
  {
   "cell_type": "code",
   "execution_count": null,
   "id": "66f94c64",
   "metadata": {},
   "outputs": [],
   "source": [
    "age=int(input(\"enter the age\"))"
   ]
  },
  {
   "cell_type": "code",
   "execution_count": null,
   "id": "4c03dc84",
   "metadata": {},
   "outputs": [],
   "source": [
    "if(age<19):\n",
    "    print(\"children\")\n",
    "else:\n",
    "    print(\"adult\")"
   ]
  },
  {
   "cell_type": "code",
   "execution_count": null,
   "id": "87e46d69",
   "metadata": {},
   "outputs": [],
   "source": [
    "age=int(input(\"enter the age\" ))"
   ]
  },
  {
   "cell_type": "code",
   "execution_count": null,
   "id": "91b6e55f",
   "metadata": {},
   "outputs": [],
   "source": [
    "if(age<19):\n",
    "    print(\"children\")\n",
    "elif(age<35):\n",
    "    print(\"adult\")\n",
    "elif(age<59):\n",
    "    print(\"citizen\")\n",
    "else:\n",
    "    print(\"senior citizen\")"
   ]
  },
  {
   "cell_type": "code",
   "execution_count": 1,
   "id": "a8e3442f",
   "metadata": {},
   "outputs": [
    {
     "name": "stdout",
     "output_type": "stream",
     "text": [
      "Enter the Age:18\n"
     ]
    }
   ],
   "source": [
    "age=int(input(\"Enter the Age:\"))"
   ]
  },
  {
   "cell_type": "code",
   "execution_count": 2,
   "id": "6954f12e",
   "metadata": {},
   "outputs": [
    {
     "name": "stdout",
     "output_type": "stream",
     "text": [
      "Adult\n"
     ]
    }
   ],
   "source": [
    "if(age==18):\n",
    "    print(\"Adult\")"
   ]
  },
  {
   "cell_type": "code",
   "execution_count": 3,
   "id": "bed1f3e5",
   "metadata": {},
   "outputs": [
    {
     "name": "stdout",
     "output_type": "stream",
     "text": [
      "Enter the Age:19\n"
     ]
    }
   ],
   "source": [
    "age=int(input(\"Enter the Age:\"))"
   ]
  },
  {
   "cell_type": "code",
   "execution_count": 4,
   "id": "7e842be9",
   "metadata": {},
   "outputs": [
    {
     "name": "stdout",
     "output_type": "stream",
     "text": [
      "Adult\n"
     ]
    }
   ],
   "source": [
    "if(age<18):\n",
    "    print(\"Children\")\n",
    "else:\n",
    "    print(\"Adult\")"
   ]
  },
  {
   "cell_type": "code",
   "execution_count": 5,
   "id": "066b8055",
   "metadata": {},
   "outputs": [
    {
     "name": "stdout",
     "output_type": "stream",
     "text": [
      "Enter the Age:60\n"
     ]
    }
   ],
   "source": [
    "age=int(input(\"Enter the Age:\"))"
   ]
  },
  {
   "cell_type": "code",
   "execution_count": 6,
   "id": "13501887",
   "metadata": {},
   "outputs": [
    {
     "name": "stdout",
     "output_type": "stream",
     "text": [
      "Senior Citizen\n"
     ]
    }
   ],
   "source": [
    "if(age<18):\n",
    "    print(\"Children\")\n",
    "elif(age<35):\n",
    "    print(\"Adult\")\n",
    "elif(age<59):\n",
    "    print(\"citizen\")\n",
    "else:\n",
    "    print(\"Senior Citizen\")"
   ]
  },
  {
   "cell_type": "code",
   "execution_count": 8,
   "id": "c695dd29",
   "metadata": {},
   "outputs": [],
   "source": [
    "Lists=[24,35,78,89,56]"
   ]
  },
  {
   "cell_type": "code",
   "execution_count": 10,
   "id": "bf8ad9e2",
   "metadata": {},
   "outputs": [
    {
     "name": "stdout",
     "output_type": "stream",
     "text": [
      "24\n",
      "35\n",
      "78\n",
      "89\n",
      "56\n"
     ]
    }
   ],
   "source": [
    "for temp in Lists:\n",
    "    print(temp)"
   ]
  },
  {
   "cell_type": "code",
   "execution_count": 11,
   "id": "55b49815",
   "metadata": {},
   "outputs": [],
   "source": [
    "Lists=[24,35,78,89,56]"
   ]
  },
  {
   "cell_type": "code",
   "execution_count": 14,
   "id": "1108d85d",
   "metadata": {},
   "outputs": [
    {
     "name": "stdout",
     "output_type": "stream",
     "text": [
      "Enter the Age:20\n"
     ]
    }
   ],
   "source": [
    "age=int(input(\"Enter the Age:\"))"
   ]
  },
  {
   "cell_type": "code",
   "execution_count": 16,
   "id": "2a6cfffd",
   "metadata": {},
   "outputs": [
    {
     "name": "stdout",
     "output_type": "stream",
     "text": [
      "Adult\n",
      "citizen\n",
      "Senior Citizen\n",
      "Senior Citizen\n",
      "citizen\n"
     ]
    }
   ],
   "source": [
    "for age in Lists:\n",
    "    if(age<18):\n",
    "        print(\"Children\")\n",
    "    elif(age<35):\n",
    "        print(\"Adult\")\n",
    "    elif(age<59):\n",
    "        print(\"citizen\")\n",
    "    else:\n",
    "        print(\"Senior Citizen\")\n",
    "      "
   ]
  },
  {
   "cell_type": "code",
   "execution_count": 21,
   "id": "67845700",
   "metadata": {},
   "outputs": [
    {
     "name": "stdout",
     "output_type": "stream",
     "text": [
      "Enter the number:4\n",
      "Even Number\n"
     ]
    }
   ],
   "source": [
    "num=int(input(\"Enter the number:\"))\n",
    "if((num%2)==0):\n",
    "    print(\"Even Number\")\n",
    "else:\n",
    "    print(\"Odd Number\")"
   ]
  },
  {
   "cell_type": "code",
   "execution_count": 22,
   "id": "a51417fd",
   "metadata": {},
   "outputs": [
    {
     "name": "stdout",
     "output_type": "stream",
     "text": [
      "Enter the Number:5\n",
      "odd number\n"
     ]
    }
   ],
   "source": [
    "num=int(input(\"Enter the Number:\"))\n",
    "if((num%2)==1):\n",
    "    print(\"odd number\")\n",
    "else:\n",
    "    print(\"Even number\")"
   ]
  },
  {
   "cell_type": "code",
   "execution_count": 23,
   "id": "424c4a7a",
   "metadata": {},
   "outputs": [
    {
     "name": "stdout",
     "output_type": "stream",
     "text": [
      "range\n",
      "10\n",
      "11\n",
      "12\n",
      "13\n",
      "14\n",
      "15\n",
      "16\n",
      "17\n",
      "18\n",
      "19\n"
     ]
    }
   ],
   "source": [
    "print(\"range\")\n",
    "for num in range(10,20):\n",
    "    print(num)"
   ]
  },
  {
   "cell_type": "code",
   "execution_count": 24,
   "id": "95c0a9dd",
   "metadata": {},
   "outputs": [
    {
     "name": "stdout",
     "output_type": "stream",
     "text": [
      "range\n",
      "2\n",
      "4\n",
      "6\n",
      "8\n"
     ]
    }
   ],
   "source": [
    "print(\"range\")\n",
    "for num in range(2,10,2):\n",
    "    print(num)"
   ]
  },
  {
   "cell_type": "code",
   "execution_count": null,
   "id": "09846d73",
   "metadata": {},
   "outputs": [],
   "source": []
  }
 ],
 "metadata": {
  "kernelspec": {
   "display_name": "Python 3 (ipykernel)",
   "language": "python",
   "name": "python3"
  },
  "language_info": {
   "codemirror_mode": {
    "name": "ipython",
    "version": 3
   },
   "file_extension": ".py",
   "mimetype": "text/x-python",
   "name": "python",
   "nbconvert_exporter": "python",
   "pygments_lexer": "ipython3",
   "version": "3.11.5"
  }
 },
 "nbformat": 4,
 "nbformat_minor": 5
}
