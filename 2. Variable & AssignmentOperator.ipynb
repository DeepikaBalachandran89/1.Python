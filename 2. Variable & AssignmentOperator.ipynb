{
 "cells": [
  {
   "cell_type": "code",
   "execution_count": 9,
   "id": "526296d2",
   "metadata": {},
   "outputs": [
    {
     "name": "stdout",
     "output_type": "stream",
     "text": [
      "add\n",
      "40\n"
     ]
    }
   ],
   "source": [
    "num1=10\n",
    "num2=30\n",
    "add=num1+num2\n",
    "print(\"add\")\n",
    "print(add)"
   ]
  },
  {
   "cell_type": "code",
   "execution_count": null,
   "id": "c43bf530",
   "metadata": {},
   "outputs": [],
   "source": [
    "num3=5\n",
    "num4=1\n",
    "sub=num3-num4\n",
    "print(\"sub\")\n",
    "print(sub)"
   ]
  },
  {
   "cell_type": "code",
   "execution_count": null,
   "id": "e4fd4d2e",
   "metadata": {},
   "outputs": [],
   "source": [
    "first=2\n",
    "second=3\n",
    "add=first+second\n",
    "print(\"add\")\n",
    "print(add)"
   ]
  },
  {
   "cell_type": "code",
   "execution_count": null,
   "id": "2bd8c128",
   "metadata": {},
   "outputs": [],
   "source": [
    "print(\"The Addition of two Numbers\")\n",
    "num1=10\n",
    "print(\"The Number1:\",num1)\n",
    "num2=20\n",
    "print(\"The Number2:\",num2)\n",
    "print(\"The Answer:\",num1+num2)"
   ]
  },
  {
   "cell_type": "code",
   "execution_count": null,
   "id": "d9c6bfe8",
   "metadata": {},
   "outputs": [],
   "source": [
    "print(\"subtraction of two numbers\")\n",
    "no1=40\n",
    "print(\"subtraction of no1:\",no1)\n",
    "no2=30\n",
    "print(\"subtraction of no2:\",no2)\n",
    "print(\"The Answer:\",no1-no2)\n",
    "print(\"end\")"
   ]
  },
  {
   "cell_type": "code",
   "execution_count": null,
   "id": "942e5673",
   "metadata": {},
   "outputs": [],
   "source": [
    "print(\"user record:\")"
   ]
  },
  {
   "cell_type": "code",
   "execution_count": 1,
   "id": "e6c79a88",
   "metadata": {},
   "outputs": [
    {
     "name": "stdout",
     "output_type": "stream",
     "text": [
      "Enter the number127\n"
     ]
    }
   ],
   "source": [
    "number1=int(input(\"Enter the number1\"))"
   ]
  },
  {
   "cell_type": "code",
   "execution_count": 1,
   "id": "dba0e401",
   "metadata": {},
   "outputs": [
    {
     "name": "stdout",
     "output_type": "stream",
     "text": [
      "12\n"
     ]
    }
   ],
   "source": [
    "Number1=8\n",
    "Number2=4\n",
    "add=Number1+Number2\n",
    "print(add)"
   ]
  },
  {
   "cell_type": "code",
   "execution_count": 3,
   "id": "23ed06bc",
   "metadata": {},
   "outputs": [
    {
     "name": "stdout",
     "output_type": "stream",
     "text": [
      "The Add of two Numbers\n",
      "The Number1: 10\n",
      "The Number2: 90\n",
      "The Answer: 100\n"
     ]
    }
   ],
   "source": [
    "print(\"The Add of two Numbers\")\n",
    "Num1=10\n",
    "print(\"The Number1:\",Num1)\n",
    "Num2=90\n",
    "print(\"The Number2:\",Num2)\n",
    "add=Num1+Num2\n",
    "print(\"The Answer:\",add)"
   ]
  },
  {
   "cell_type": "code",
   "execution_count": 1,
   "id": "34532a65",
   "metadata": {},
   "outputs": [
    {
     "name": "stdout",
     "output_type": "stream",
     "text": [
      "158\n"
     ]
    }
   ],
   "source": [
    "alph1=88\n",
    "alph2=70\n",
    "add=alph1+alph2\n",
    "print(add)"
   ]
  },
  {
   "cell_type": "code",
   "execution_count": 2,
   "id": "23bf4f53",
   "metadata": {},
   "outputs": [
    {
     "name": "stdout",
     "output_type": "stream",
     "text": [
      "addition of two numbers\n",
      "The Number1: 50\n",
      "The Number2: 78\n",
      "The Answer: 128\n"
     ]
    }
   ],
   "source": [
    "print(\"addition of two numbers\")\n",
    "num1=50\n",
    "print(\"The Number1:\",num1)\n",
    "num2=78\n",
    "print(\"The Number2:\",num2)\n",
    "print(\"The Answer:\",num1+num2)\n"
   ]
  },
  {
   "cell_type": "code",
   "execution_count": 6,
   "id": "12630fa4",
   "metadata": {},
   "outputs": [
    {
     "name": "stdout",
     "output_type": "stream",
     "text": [
      "166\n"
     ]
    }
   ],
   "source": [
    "num1=76\n",
    "num2=90\n",
    "add=num1+num2\n",
    "print(add)"
   ]
  },
  {
   "cell_type": "code",
   "execution_count": 8,
   "id": "8cdcb060",
   "metadata": {},
   "outputs": [
    {
     "name": "stdout",
     "output_type": "stream",
     "text": [
      "The add of two numbers\n",
      "The number1: 40\n",
      "The number2: 90\n",
      "The Answer: 130\n"
     ]
    }
   ],
   "source": [
    "print(\"The add of two numbers\")\n",
    "num1=40\n",
    "print(\"The number1:\",num1)\n",
    "num2=90\n",
    "print(\"The number2:\",num2)\n",
    "add=num1+num2\n",
    "print(\"The Answer:\",add)"
   ]
  },
  {
   "cell_type": "code",
   "execution_count": null,
   "id": "8e6cc94b",
   "metadata": {},
   "outputs": [],
   "source": []
  }
 ],
 "metadata": {
  "kernelspec": {
   "display_name": "Python 3 (ipykernel)",
   "language": "python",
   "name": "python3"
  },
  "language_info": {
   "codemirror_mode": {
    "name": "ipython",
    "version": 3
   },
   "file_extension": ".py",
   "mimetype": "text/x-python",
   "name": "python",
   "nbconvert_exporter": "python",
   "pygments_lexer": "ipython3",
   "version": "3.11.5"
  }
 },
 "nbformat": 4,
 "nbformat_minor": 5
}
